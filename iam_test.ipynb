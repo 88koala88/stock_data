{
 "cells": [
  {
   "cell_type": "markdown",
   "id": "9c4e1253",
   "metadata": {},
   "source": [
    "## GCP 빅쿼리 및 스토리지와 파이썬 연동"
   ]
  },
  {
   "cell_type": "code",
   "execution_count": 1,
   "id": "921fcc58",
   "metadata": {},
   "outputs": [],
   "source": [
    "import glob\n",
    "from google.cloud import bigquery\n",
    "from google.oauth2 import service_account\n",
    "from google.cloud import storage\n",
    "import pandas as pd\n",
    "import db_dtypes     "
   ]
  },
  {
   "cell_type": "code",
   "execution_count": 2,
   "id": "1a368353",
   "metadata": {},
   "outputs": [],
   "source": [
    "key_path = glob.glob(\"iam_key.json\")[0]   # 키 값 수정 필요\n",
    "credentials = service_account.Credentials.from_service_account_file(key_path)"
   ]
  },
  {
   "cell_type": "code",
   "execution_count": 3,
   "id": "5740b484",
   "metadata": {},
   "outputs": [],
   "source": [
    "client = bigquery.Client(credentials = credentials, \n",
    "                         project = credentials.project_id)"
   ]
  },
  {
   "cell_type": "code",
   "execution_count": 4,
   "id": "fb72818d",
   "metadata": {},
   "outputs": [],
   "source": [
    "sql = f\"\"\"\n",
    "SELECT *\n",
    "FROM gcp-study-387610.data_study.iris_sample\n",
    "\"\"\"\n",
    "query_job = client.query(sql)"
   ]
  },
  {
   "cell_type": "code",
   "execution_count": 5,
   "id": "f51187c6",
   "metadata": {},
   "outputs": [
    {
     "data": {
      "text/html": [
       "<div>\n",
       "<style scoped>\n",
       "    .dataframe tbody tr th:only-of-type {\n",
       "        vertical-align: middle;\n",
       "    }\n",
       "\n",
       "    .dataframe tbody tr th {\n",
       "        vertical-align: top;\n",
       "    }\n",
       "\n",
       "    .dataframe thead th {\n",
       "        text-align: right;\n",
       "    }\n",
       "</style>\n",
       "<table border=\"1\" class=\"dataframe\">\n",
       "  <thead>\n",
       "    <tr style=\"text-align: right;\">\n",
       "      <th></th>\n",
       "      <th>Sepal_Length</th>\n",
       "      <th>Sepal_Width</th>\n",
       "      <th>Petal_Length</th>\n",
       "      <th>Petal_Width</th>\n",
       "      <th>Species</th>\n",
       "    </tr>\n",
       "  </thead>\n",
       "  <tbody>\n",
       "    <tr>\n",
       "      <th>0</th>\n",
       "      <td>5.1</td>\n",
       "      <td>2.5</td>\n",
       "      <td>3.0</td>\n",
       "      <td>1.1</td>\n",
       "      <td>versicolor</td>\n",
       "    </tr>\n",
       "    <tr>\n",
       "      <th>1</th>\n",
       "      <td>5.0</td>\n",
       "      <td>2.0</td>\n",
       "      <td>3.5</td>\n",
       "      <td>1.0</td>\n",
       "      <td>versicolor</td>\n",
       "    </tr>\n",
       "    <tr>\n",
       "      <th>2</th>\n",
       "      <td>5.7</td>\n",
       "      <td>2.6</td>\n",
       "      <td>3.5</td>\n",
       "      <td>1.0</td>\n",
       "      <td>versicolor</td>\n",
       "    </tr>\n",
       "    <tr>\n",
       "      <th>3</th>\n",
       "      <td>6.0</td>\n",
       "      <td>2.2</td>\n",
       "      <td>4.0</td>\n",
       "      <td>1.0</td>\n",
       "      <td>versicolor</td>\n",
       "    </tr>\n",
       "    <tr>\n",
       "      <th>4</th>\n",
       "      <td>5.8</td>\n",
       "      <td>2.6</td>\n",
       "      <td>4.0</td>\n",
       "      <td>1.2</td>\n",
       "      <td>versicolor</td>\n",
       "    </tr>\n",
       "  </tbody>\n",
       "</table>\n",
       "</div>"
      ],
      "text/plain": [
       "   Sepal_Length  Sepal_Width  Petal_Length  Petal_Width     Species\n",
       "0           5.1          2.5           3.0          1.1  versicolor\n",
       "1           5.0          2.0           3.5          1.0  versicolor\n",
       "2           5.7          2.6           3.5          1.0  versicolor\n",
       "3           6.0          2.2           4.0          1.0  versicolor\n",
       "4           5.8          2.6           4.0          1.2  versicolor"
      ]
     },
     "execution_count": 5,
     "metadata": {},
     "output_type": "execute_result"
    }
   ],
   "source": [
    "df = query_job.to_dataframe()\n",
    "df.head()"
   ]
  },
  {
   "cell_type": "code",
   "execution_count": 6,
   "id": "193eb46b",
   "metadata": {},
   "outputs": [],
   "source": [
    "storage_client = storage.Client(credentials = credentials, \n",
    "                         project = credentials.project_id)"
   ]
  },
  {
   "cell_type": "code",
   "execution_count": 19,
   "id": "58aa7d49",
   "metadata": {},
   "outputs": [],
   "source": [
    "bucket_name = 'data1-study1'  \n",
    "source_file_name = 'iris.csv'   \n",
    "destination_blob_name = 'iris_upload.csv' "
   ]
  },
  {
   "cell_type": "code",
   "execution_count": 20,
   "id": "3cf475f9",
   "metadata": {},
   "outputs": [],
   "source": [
    "bucket = storage_client.bucket(bucket_name) \n",
    "blob = bucket.blob(destination_blob_name)  \n",
    "blob.upload_from_filename(source_file_name) "
   ]
  },
  {
   "cell_type": "code",
   "execution_count": 21,
   "id": "1ff3c593",
   "metadata": {},
   "outputs": [],
   "source": [
    "bucket_name = 'data1-study1'  \n",
    "source_blob_name = 'iris_upload.csv'   \n",
    "destination_file_name = 'iris_download.csv'   "
   ]
  },
  {
   "cell_type": "code",
   "execution_count": 22,
   "id": "ec95c51b",
   "metadata": {},
   "outputs": [],
   "source": [
    "bucket = storage_client.bucket(bucket_name)\n",
    "blob = bucket.blob(source_blob_name) \n",
    "blob.download_to_filename(destination_file_name) "
   ]
  },
  {
   "cell_type": "code",
   "execution_count": null,
   "id": "e9dc2051",
   "metadata": {},
   "outputs": [],
   "source": []
  }
 ],
 "metadata": {
  "kernelspec": {
   "display_name": "Python 3 (ipykernel)",
   "language": "python",
   "name": "python3"
  },
  "language_info": {
   "codemirror_mode": {
    "name": "ipython",
    "version": 3
   },
   "file_extension": ".py",
   "mimetype": "text/x-python",
   "name": "python",
   "nbconvert_exporter": "python",
   "pygments_lexer": "ipython3",
   "version": "3.9.13"
  }
 },
 "nbformat": 4,
 "nbformat_minor": 5
}
